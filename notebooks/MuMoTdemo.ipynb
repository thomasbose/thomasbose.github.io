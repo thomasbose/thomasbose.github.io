{
 "cells": [
  {
   "cell_type": "markdown",
   "metadata": {},
   "source": [
    "# MuMoT Tutorial SIAM LS18 Conference  <a class=\"tocSkip\">\n",
    "\n",
    "## MuMoT: Multiscale Modelling Tool  <a class=\"tocSkip\">\n",
    "\n",
    "A software tool developed at the University of Sheffield as part of the [DiODe](http://diode.group.shef.ac.uk) project."
   ]
  },
  {
   "cell_type": "markdown",
   "metadata": {},
   "source": [
    "## Working with MuMoT<a class=\"tocSkip\">\n",
    "\n",
    "MuMoT runs inside [Jupyter notebooks](http://jupyter.org) - since you are reading this User Manual you have presumably already installed Jupyter, or are using an installation provided to you. To toggle the [table of contents](https://github.com/ipython-contrib/jupyter_contrib_nbextensions/tree/master/src/jupyter_contrib_nbextensions/nbextensions/toc2) click the 'Table of Contents' button in the Jupyter toolbar.\n",
    "\n",
    "Next, you need to install MuMoT itself; since MuMoT is a Python package it can be installed from PyPi - see the [project documentation](https://diodeproject.github.io/MuMoT/getting_started.html) for more details.\n",
    "\n",
    "To run commands in 'Code' cells it's usually easiest just to hit `Shift + Enter`; here is some basic information on [working with Jupyter notebooks](http://jupyter-notebook.readthedocs.io/en/stable/examples/Notebook/Notebook%20Basics.html).\n",
    "\n",
    "With Jupyter and MuMoT both installed, you simply need to import the MuMoT package into your notebook using `import mumot`."
   ]
  },
  {
   "cell_type": "code",
   "execution_count": 1,
   "metadata": {},
   "outputs": [
    {
     "name": "stdout",
     "output_type": "stream",
     "text": [
      "Created `%%model` as an alias for `%%latex`.\n",
      "Multiscale Modelling Tool (MuMoT): Version 0.1.0-dev\n",
      "Authors: James A. R. Marshall, Andreagiovanni Reina, Thomas Bose\n",
      "Documentation: https://diodeproject.github.io/MuMoT\n"
     ]
    }
   ],
   "source": [
    "import mumot\n",
    "mumot.about()"
   ]
  },
  {
   "cell_type": "markdown",
   "metadata": {},
   "source": [
    "## Defining the model<a class=\"tocSkip\">\n",
    "\n",
    "MuMoT models are defined using the `%%model` keyword within a cell, and have a straightforward syntax; you simply have to describe the reactions that take place, and the rates with which they occur.\n",
    "\n",
    "Our model will be based on signalling behaviour observed in honeybee swarms, as described in Seeley et al., *Science* 335: 108 (2012) and Pais et al., *PLOS ONE* 8, e73216 (2013); see also Reina et al., *Phys. Rev. E* 95, 052411 (2017) for 3 or more alternatives.\n",
    "\n",
    "Here we go..."
   ]
  },
  {
   "cell_type": "code",
   "execution_count": 2,
   "metadata": {},
   "outputs": [
    {
     "data": {
      "text/latex": [
       "$\n",
       "U -> A : g_A\n",
       "U -> B : g_B\n",
       "A -> U : a_A\n",
       "B -> U : a_B\n",
       "A + U -> A + A : r_A\n",
       "B + U -> B + B : r_B\n",
       "A + B -> A + U : \\sigma\n",
       "A + B -> B + U : \\sigma\n",
       "$\n"
      ],
      "text/plain": [
       "<IPython.core.display.Latex object>"
      ]
     },
     "metadata": {},
     "output_type": "display_data"
    }
   ],
   "source": [
    "%%model\n",
    "$\n",
    "U -> A : g_A\n",
    "U -> B : g_B\n",
    "A -> U : a_A\n",
    "B -> U : a_B\n",
    "A + U -> A + A : r_A\n",
    "B + U -> B + B : r_B\n",
    "A + B -> A + U : \\sigma\n",
    "A + B -> B + U : \\sigma\n",
    "$"
   ]
  },
  {
   "cell_type": "markdown",
   "metadata": {},
   "source": [
    "Now we have our model, and Jupyter should have reprinted the rules underneath the cell you input them in.\n",
    "\n",
    "You can see that actually the `_` code enables you to use subscripts, which can be handy for distinguishing related rates - in this model there are two distinct nest sites for the honeybee swarm to choose between, *A* and *B*, and rates associated with each one.\n",
    "\n",
    "To make one of those we have to use the `parseModel` command; we simply pass in a reference to the cell where we defined our model - this should be in input cell 2..."
   ]
  },
  {
   "cell_type": "code",
   "execution_count": 3,
   "metadata": {},
   "outputs": [],
   "source": [
    "model1 = mumot.parseModel(In[2])"
   ]
  },
  {
   "cell_type": "markdown",
   "metadata": {},
   "source": [
    "Now we have `model1`, which is a version of the model that we can start doing useful work with. \n",
    "\n",
    "We can also look at the reaction equations in a slightly nicer format..."
   ]
  },
  {
   "cell_type": "code",
   "execution_count": 4,
   "metadata": {},
   "outputs": [
    {
     "data": {
      "text/latex": [
       "$\\displaystyle U  \\xrightarrow{g_{A}}A $"
      ],
      "text/plain": [
       "<IPython.core.display.Math object>"
      ]
     },
     "metadata": {},
     "output_type": "display_data"
    },
    {
     "data": {
      "text/latex": [
       "$\\displaystyle U  \\xrightarrow{g_{B}}B $"
      ],
      "text/plain": [
       "<IPython.core.display.Math object>"
      ]
     },
     "metadata": {},
     "output_type": "display_data"
    },
    {
     "data": {
      "text/latex": [
       "$\\displaystyle A  \\xrightarrow{a_{A}}U $"
      ],
      "text/plain": [
       "<IPython.core.display.Math object>"
      ]
     },
     "metadata": {},
     "output_type": "display_data"
    },
    {
     "data": {
      "text/latex": [
       "$\\displaystyle B  \\xrightarrow{a_{B}}U $"
      ],
      "text/plain": [
       "<IPython.core.display.Math object>"
      ]
     },
     "metadata": {},
     "output_type": "display_data"
    },
    {
     "data": {
      "text/latex": [
       "$\\displaystyle A + U  \\xrightarrow{r_{A}}A + A $"
      ],
      "text/plain": [
       "<IPython.core.display.Math object>"
      ]
     },
     "metadata": {},
     "output_type": "display_data"
    },
    {
     "data": {
      "text/latex": [
       "$\\displaystyle B + U  \\xrightarrow{r_{B}}B + B $"
      ],
      "text/plain": [
       "<IPython.core.display.Math object>"
      ]
     },
     "metadata": {},
     "output_type": "display_data"
    },
    {
     "data": {
      "text/latex": [
       "$\\displaystyle A + B  \\xrightarrow{\\sigma}A + U $"
      ],
      "text/plain": [
       "<IPython.core.display.Math object>"
      ]
     },
     "metadata": {},
     "output_type": "display_data"
    },
    {
     "data": {
      "text/latex": [
       "$\\displaystyle A + B  \\xrightarrow{\\sigma}B + U $"
      ],
      "text/plain": [
       "<IPython.core.display.Math object>"
      ]
     },
     "metadata": {},
     "output_type": "display_data"
    }
   ],
   "source": [
    "model1.show()"
   ]
  },
  {
   "cell_type": "markdown",
   "metadata": {},
   "source": [
    "We can even see a simple figure representing our model..."
   ]
  },
  {
   "cell_type": "code",
   "execution_count": 5,
   "metadata": {},
   "outputs": [
    {
     "data": {
      "image/svg+xml": [
       "<?xml version=\"1.0\" encoding=\"UTF-8\" standalone=\"no\"?>\n",
       "<!DOCTYPE svg PUBLIC \"-//W3C//DTD SVG 1.1//EN\"\n",
       " \"http://www.w3.org/Graphics/SVG/1.1/DTD/svg11.dtd\">\n",
       "<!-- Generated by graphviz version 2.40.1 (20161225.0304)\n",
       " -->\n",
       "<!-- Title: %3 Pages: 1 -->\n",
       "<svg width=\"152pt\" height=\"148pt\"\n",
       " viewBox=\"0.00 0.00 152.24 148.20\" xmlns=\"http://www.w3.org/2000/svg\" xmlns:xlink=\"http://www.w3.org/1999/xlink\">\n",
       "<g id=\"graph0\" class=\"graph\" transform=\"scale(1 1) rotate(0) translate(4 144.2012)\">\n",
       "<title>%3</title>\n",
       "<polygon fill=\"#ffffff\" stroke=\"transparent\" points=\"-4,4 -4,-144.2012 148.2409,-144.2012 148.2409,4 -4,4\"/>\n",
       "<!-- B -->\n",
       "<g id=\"node1\" class=\"node\">\n",
       "<title>B</title>\n",
       "<ellipse fill=\"none\" stroke=\"#000000\" cx=\"27\" cy=\"-18\" rx=\"27\" ry=\"18\"/>\n",
       "<image xlink:href=\"__mumot_files__/tmpdo7whyn9/tmph346gvfo.png\" width=\"13px\" height=\"11px\" preserveAspectRatio=\"xMinYMin meet\" x=\"20.5\" y=\"-23.5\"/>\n",
       "<text text-anchor=\"middle\" x=\"27\" y=\"-14.3\" font-family=\"Times,serif\" font-size=\"14.00\" fill=\"#000000\"> </text>\n",
       "</g>\n",
       "<!-- A -->\n",
       "<g id=\"node2\" class=\"node\">\n",
       "<title>A</title>\n",
       "<ellipse fill=\"none\" stroke=\"#000000\" cx=\"27\" cy=\"-122.2012\" rx=\"27\" ry=\"18\"/>\n",
       "<image xlink:href=\"__mumot_files__/tmpdo7whyn9/tmpmjmiorib.png\" width=\"12px\" height=\"11px\" preserveAspectRatio=\"xMinYMin meet\" x=\"21\" y=\"-127.701\"/>\n",
       "<text text-anchor=\"middle\" x=\"27\" y=\"-118.5012\" font-family=\"Times,serif\" font-size=\"14.00\" fill=\"#000000\"> </text>\n",
       "</g>\n",
       "<!-- B&#45;&gt;A -->\n",
       "<g id=\"edge8\" class=\"edge\">\n",
       "<title>B&#45;&gt;A</title>\n",
       "<path fill=\"none\" stroke=\"#000000\" d=\"M21.783,-35.6763C20.0131,-52.2927 19.7758,-77.3649 21.0709,-96.2495\"/>\n",
       "<ellipse fill=\"#000000\" stroke=\"#000000\" cx=\"21.4317\" cy=\"-100.4528\" rx=\"4\" ry=\"4\"/>\n",
       "<image xlink:href=\"__mumot_files__/tmpdo7whyn9/tmp829v3qii.png\" width=\"7px\" height=\"5px\" preserveAspectRatio=\"xMinYMin meet\" x=\"10.9269\" y=\"-74.4629\"/>\n",
       "</g>\n",
       "<!-- U -->\n",
       "<g id=\"node3\" class=\"node\">\n",
       "<title>U</title>\n",
       "<ellipse fill=\"none\" stroke=\"#000000\" cx=\"117.2409\" cy=\"-70.1006\" rx=\"27\" ry=\"18\"/>\n",
       "<image xlink:href=\"__mumot_files__/tmpdo7whyn9/tmpwc0r_8fz.png\" width=\"12px\" height=\"11px\" preserveAspectRatio=\"xMinYMin meet\" x=\"111.241\" y=\"-75.6006\"/>\n",
       "<text text-anchor=\"middle\" x=\"117.2409\" y=\"-66.4006\" font-family=\"Times,serif\" font-size=\"14.00\" fill=\"#000000\"> </text>\n",
       "</g>\n",
       "<!-- B&#45;&gt;U -->\n",
       "<g id=\"edge4\" class=\"edge\">\n",
       "<title>B&#45;&gt;U</title>\n",
       "<path fill=\"none\" stroke=\"#000000\" d=\"M36.3839,-35.23C47.1146,-45.114 64.7899,-56.3051 80.9491,-63.9188\"/>\n",
       "<polygon fill=\"#000000\" stroke=\"#000000\" points=\"79.658,-67.1739 90.2242,-67.9514 82.449,-60.7544 79.658,-67.1739\"/>\n",
       "<image xlink:href=\"__mumot_files__/tmpdo7whyn9/tmpdyqck11u.png\" width=\"13px\" height=\"7px\" preserveAspectRatio=\"xMinYMin meet\" x=\"42.1665\" y=\"-60.0744\"/>\n",
       "</g>\n",
       "<!-- A&#45;&gt;B -->\n",
       "<g id=\"edge7\" class=\"edge\">\n",
       "<title>A&#45;&gt;B</title>\n",
       "<path fill=\"none\" stroke=\"#000000\" d=\"M32.217,-104.5249C33.9869,-87.9084 34.2242,-62.8363 32.9291,-43.9517\"/>\n",
       "<ellipse fill=\"#000000\" stroke=\"#000000\" cx=\"32.5683\" cy=\"-39.7484\" rx=\"4\" ry=\"4\"/>\n",
       "<image xlink:href=\"__mumot_files__/tmpdo7whyn9/tmpfi7s852t.png\" width=\"7px\" height=\"5px\" preserveAspectRatio=\"xMinYMin meet\" x=\"37.0731\" y=\"-82.7383\"/>\n",
       "</g>\n",
       "<!-- A&#45;&gt;U -->\n",
       "<g id=\"edge3\" class=\"edge\">\n",
       "<title>A&#45;&gt;U</title>\n",
       "<path fill=\"none\" stroke=\"#000000\" d=\"M54.2257,-119.9691C69.251,-114.0025 87.3154,-103.664 100.3542,-93.6097\"/>\n",
       "<polygon fill=\"#000000\" stroke=\"#000000\" points=\"102.7076,-96.2038 108.1144,-87.0924 98.2058,-90.8434 102.7076,-96.2038\"/>\n",
       "<image xlink:href=\"__mumot_files__/tmpdo7whyn9/tmpiijciqxi.png\" width=\"13px\" height=\"7px\" preserveAspectRatio=\"xMinYMin meet\" x=\"60.79\" y=\"-117.289\"/>\n",
       "</g>\n",
       "<!-- U&#45;&gt;B -->\n",
       "<g id=\"edge2\" class=\"edge\">\n",
       "<title>U&#45;&gt;B</title>\n",
       "<path fill=\"none\" stroke=\"#000000\" d=\"M107.8569,-52.8706C97.1262,-42.9866 79.451,-31.7954 63.2918,-24.1817\"/>\n",
       "<polygon fill=\"#000000\" stroke=\"#000000\" points=\"64.5829,-20.9266 54.0166,-20.1492 61.7919,-27.3462 64.5829,-20.9266\"/>\n",
       "<image xlink:href=\"__mumot_files__/tmpdo7whyn9/tmppjk3bvtt.png\" width=\"12px\" height=\"7px\" preserveAspectRatio=\"xMinYMin meet\" x=\"69.5743\" y=\"-34.0262\"/>\n",
       "</g>\n",
       "<!-- U&#45;&gt;B -->\n",
       "<g id=\"edge6\" class=\"edge\">\n",
       "<title>U&#45;&gt;B</title>\n",
       "<path fill=\"none\" stroke=\"#000000\" d=\"M89.5609,-54.1196C79.1282,-48.0963 67.2253,-41.2241 56.6221,-35.1023\"/>\n",
       "<ellipse fill=\"#000000\" stroke=\"#000000\" cx=\"93.2997\" cy=\"-56.2781\" rx=\"4\" ry=\"4\"/>\n",
       "<polygon fill=\"#000000\" stroke=\"#000000\" points=\"58.1187,-31.9249 47.7084,-29.956 54.6186,-37.9871 58.1187,-31.9249\"/>\n",
       "<image xlink:href=\"__mumot_files__/tmpdo7whyn9/tmpc1p_hdvn.png\" width=\"12px\" height=\"7px\" preserveAspectRatio=\"xMinYMin meet\" x=\"77.0915\" y=\"-55.111\"/>\n",
       "</g>\n",
       "<!-- U&#45;&gt;A -->\n",
       "<g id=\"edge1\" class=\"edge\">\n",
       "<title>U&#45;&gt;A</title>\n",
       "<path fill=\"none\" stroke=\"#000000\" d=\"M90.0151,-72.3327C74.9899,-78.2993 56.9255,-88.6378 43.8867,-98.6921\"/>\n",
       "<polygon fill=\"#000000\" stroke=\"#000000\" points=\"41.5332,-96.0979 36.1264,-105.2093 46.0351,-101.4583 41.5332,-96.0979\"/>\n",
       "<image xlink:href=\"__mumot_files__/tmpdo7whyn9/tmp259y0lm7.png\" width=\"12px\" height=\"7px\" preserveAspectRatio=\"xMinYMin meet\" x=\"70.9509\" y=\"-81.0124\"/>\n",
       "</g>\n",
       "<!-- U&#45;&gt;A -->\n",
       "<g id=\"edge5\" class=\"edge\">\n",
       "<title>U&#45;&gt;A</title>\n",
       "<path fill=\"none\" stroke=\"#000000\" d=\"M89.5609,-86.0816C79.1282,-92.1049 67.2253,-98.9771 56.6221,-105.0988\"/>\n",
       "<ellipse fill=\"#000000\" stroke=\"#000000\" cx=\"93.2997\" cy=\"-83.923\" rx=\"4\" ry=\"4\"/>\n",
       "<polygon fill=\"#000000\" stroke=\"#000000\" points=\"54.6186,-102.214 47.7084,-110.2452 58.1187,-108.2762 54.6186,-102.214\"/>\n",
       "<image xlink:href=\"__mumot_files__/tmpdo7whyn9/tmpw1xwoiic.png\" width=\"12px\" height=\"7px\" preserveAspectRatio=\"xMinYMin meet\" x=\"77.0915\" y=\"-106.09\"/>\n",
       "</g>\n",
       "</g>\n",
       "</svg>\n"
      ],
      "text/plain": [
       "<graphviz.dot.Digraph at 0x115c513c8>"
      ]
     },
     "execution_count": 5,
     "metadata": {},
     "output_type": "execute_result"
    }
   ],
   "source": [
    "model1.visualise()"
   ]
  },
  {
   "cell_type": "markdown",
   "metadata": {},
   "source": [
    "This figure attempts to represent the nature of the interactions between reactants graphically, from simple transitions (arrows), inhibitions (filled circles) and induced switches (arrows with filled circles at the origin)."
   ]
  },
  {
   "cell_type": "markdown",
   "metadata": {},
   "source": [
    "## Exploring the model<a class=\"tocSkip\">\n",
    "\n",
    "A first useful command is `showODEs()`"
   ]
  },
  {
   "cell_type": "code",
   "execution_count": null,
   "metadata": {},
   "outputs": [],
   "source": [
    "model1.showODEs()"
   ]
  },
  {
   "cell_type": "markdown",
   "metadata": {},
   "source": [
    "So, what analysis can we do in MuMoT now we've found our ODEs?\n",
    "\n",
    "First we can symplify them.\n",
    "\n",
    "In what follows we assume that the system is conserved and let MuMoT know this by defining one of the reactants in terms of the other, using `substitute()`"
   ]
  },
  {
   "cell_type": "code",
   "execution_count": null,
   "metadata": {},
   "outputs": [],
   "source": [
    "model2 = model1.substitute('U = N - A - B')"
   ]
  },
  {
   "cell_type": "markdown",
   "metadata": {},
   "source": [
    "Now we have a simplified model, `model2`, which only has two equations."
   ]
  },
  {
   "cell_type": "code",
   "execution_count": null,
   "metadata": {},
   "outputs": [],
   "source": [
    "model2.showODEs()"
   ]
  },
  {
   "cell_type": "markdown",
   "metadata": {},
   "source": [
    "Having a closer look at these equations, we see that $U$ has vanished from the equations. \n",
    "\n",
    "Symbols denoting *reactants* in the ODEs are *concentrations*, as their derivation is based on the **law of mass action**: *the rate with which a chemical reaction occurrs is proportional to (the product of) the concentration of the reactants.* This can be made clearer by deriving the ODEs via a principled method based on the system size expansion (also called *van Kampen* expansion (van Kampen, *Stochastic Processes in Physics and Chemistry* (2007)) of the *Master equation* explained below. In MuMoT we can use `showODEs()` with the keyword `method='vanKampen'` - here is an example: "
   ]
  },
  {
   "cell_type": "code",
   "execution_count": null,
   "metadata": {},
   "outputs": [],
   "source": [
    "model2.showODEs(method='vanKampen')"
   ]
  },
  {
   "cell_type": "markdown",
   "metadata": {},
   "source": [
    "As you can see, we use the upper-case Greek letter $\\Phi$ to denote concentrations (proportions) and the reactants are added as indices. This is done throughout MuMoT and you will encounter this notation again when you work with the tool.\n",
    "\n",
    "This shall be enough about mathematical equations for now; let's turn to more exciting graphical output and numerically integrate the ODEs using the MuMoT-method `integrate()`"
   ]
  },
  {
   "cell_type": "code",
   "execution_count": null,
   "metadata": {
    "scrolled": false
   },
   "outputs": [],
   "source": [
    "int1 = model2.integrate()"
   ]
  },
  {
   "cell_type": "markdown",
   "metadata": {},
   "source": [
    "Jupyter also lets you interact nicely with the figure; you can zoom in, back out, pan around, and save, all by clicking the icons that appear underneath it. If you want to save a figure for a paper, simply click the disk icon. \n",
    "\n",
    "Every *controller* in MuMoT keeps a log of everything it's been asked to do; we called our controller `int1` when we created it, so it is easy to check what it has been up to..."
   ]
  },
  {
   "cell_type": "code",
   "execution_count": null,
   "metadata": {},
   "outputs": [],
   "source": [
    "int1.showLogs(tail = True)"
   ]
  },
  {
   "cell_type": "markdown",
   "metadata": {},
   "source": [
    "To continue our analysis we may reduce the number of parameters. We might choose to describe some of the rates (abandonment (*a*), recruitment (*r*, via the waggle dance), and individual discovery and commitment (*g*)) in terms of the values (*v*) of the nest sites... we can do this by using `substitute()` again:"
   ]
  },
  {
   "cell_type": "code",
   "execution_count": null,
   "metadata": {},
   "outputs": [],
   "source": [
    "model3 = model2.substitute('a_A = 1/v_A, a_B = 1/v_B, g_A = v_A, g_B = v_B, r_A = v_A, r_B = v_B')"
   ]
  },
  {
   "cell_type": "markdown",
   "metadata": {},
   "source": [
    "Our new model is a little simpler, with just three rates, $v_A$, $v_B$ and $\\sigma$."
   ]
  },
  {
   "cell_type": "code",
   "execution_count": null,
   "metadata": {},
   "outputs": [],
   "source": [
    "model3.show()"
   ]
  },
  {
   "cell_type": "markdown",
   "metadata": {},
   "source": [
    "Still, in decision-making what we really care about is how good options are on average, and their difference in value. Pais et al. (PLOS ONE 8, e73216 (2013)) thus defined option values in terms of deviation from the average value, so\n",
    "$$\\displaystyle v_A=\\mu+\\frac{\\Delta}{2}$$\n",
    "and\n",
    "$$\\displaystyle v_B=\\mu-\\frac{\\Delta}{2}$$"
   ]
  },
  {
   "cell_type": "code",
   "execution_count": null,
   "metadata": {},
   "outputs": [],
   "source": [
    "model4 = model3.substitute('v_A = \\mu + \\Delta/2, v_B = \\mu - \\Delta/2')\n",
    "model4.showODEs()"
   ]
  },
  {
   "cell_type": "markdown",
   "metadata": {},
   "source": [
    "This model is much easier to interact with, as the following `stream` plot demonstrates..."
   ]
  },
  {
   "cell_type": "code",
   "execution_count": null,
   "metadata": {},
   "outputs": [],
   "source": [
    "stream1 = model4.stream('A','B', showFixedPoints = True, initWidgets={'mu':[3, 1, 5, 0.5],'Delta':[0, 0, 3, 0.1]})"
   ]
  },
  {
   "cell_type": "markdown",
   "metadata": {},
   "source": [
    "A `stream` plot is just like a `vector` plot, except now lines show the average change of the system over time in more detail, and their shading represents the speed of change, from slow (light grey) to fast (black).\n",
    "\n",
    "Further analysis can be done via *bifurcation plots*, using the `bifurcation()` command...\n",
    "\n",
    "`bifurcation()` takes two primary arguments, the first is the parameter we want to vary systematically, the second is the state we want to observe.    "
   ]
  },
  {
   "cell_type": "code",
   "execution_count": null,
   "metadata": {},
   "outputs": [],
   "source": [
    "bifurcation1 = model4.bifurcation('\\\\sigma','A-B', \n",
    "                                  initWidgets={'mu':[3, 1, 5, 0.5], 'Delta':[0, 0, 2, 0.1], \n",
    "                                               'initBifParam':[4.5, 4, 6, 0.1]},\n",
    "                                 choose_xrange=[0, 5])"
   ]
  },
  {
   "cell_type": "markdown",
   "metadata": {},
   "source": [
    "In the `bifurcation()` command above we specified initial parameter values (and ranges) for the sliders (via `initWidgets={...}`) and the range shown on the x-axis (with `choose_xrange=[xmin, xmax]`), which yields appropriate results straight away. \n",
    "\n",
    "Our plot shows the location of fixed points, and they are either depicted as *stable* (solid line) or *unstable* (dashed line). The label *BP1* means there is 1 occurrence of a *branch point*. This type of bifurcation is referred to as a *pitchfork bifurcation*. "
   ]
  },
  {
   "cell_type": "markdown",
   "metadata": {},
   "source": [
    "As a next step, move the $\\Delta$-slider to 0.1 and observe an *unfolding* of the *pitchfork bifurcation* where the branches become disconnected and instead of a *branch point* a *limit point* (*LP1*) is now detected (this computation may take some time).\n",
    "\n",
    "### Unfolding of pitchfork bifurcation ($\\Delta =0.1$)<a class=\"tocSkip\">\n",
    "\n",
    "<img src=\"UnfoldingDemoSIAMLS18.png\", title=\"Unfolding-of-pitchfork\",width=680, align=\"left\">"
   ]
  },
  {
   "cell_type": "markdown",
   "metadata": {},
   "source": [
    "## The effects of finite system size<a class=\"tocSkip\">\n",
    "\n",
    "The ODE models we have been looking at based on our model are very useful, but they represent an idealised scenario; they describe the behaviour of a system with infinitely many components or, to put it another way, the expected behaviour of the system, minus any noise.\n",
    "\n",
    "Noise is very important in collective behavour systems, however, and can have a variety of causes. The first cause we will consider is noisy fluctuations from the infinite population ideal, caused by having a finite, much smaller, population. \n",
    "\n",
    "We concentrate first on statistical physics analysis based on deriving the *Master Equation*.\n",
    "\n",
    "Master equations describe the time evolution of a system that, in general, can be in one of many different possible states at a given point in time with a certain probability. Over time, the system makes transitions so that the overall state changes continuously. Transitions are governed by transition probabilities that are usually summarised in a transition matrix. The Master equation is a set of first-order differential equations that describe the evolution of the state dependent probabilities driven by the transition matrix.\n",
    "\n",
    "The *chemical Master equation* (van Kampen, *Stochastic Processes in Physics and Chemistry* (2007)) is a master equation for the probabilities that the system has any given composition of rectants as a function of time. In MuMoT this equation can be derived using:"
   ]
  },
  {
   "cell_type": "code",
   "execution_count": null,
   "metadata": {
    "scrolled": true
   },
   "outputs": [],
   "source": [
    "model1.showMasterEquation()"
   ]
  },
  {
   "cell_type": "markdown",
   "metadata": {},
   "source": [
    "Here *step operators* $E_{op}$ are used to express the chemical Master equation in a compact form. MuMoT implements the derivation of the Master equation as shown by van Kampen (*Stochastic Processes in Physics and Chemistry* (2007)).\n",
    "\n",
    "Now that we have derived the Master eqution for our model we can use it to obtain the *Fokker-Planck* equation:"
   ]
  },
  {
   "cell_type": "code",
   "execution_count": null,
   "metadata": {},
   "outputs": [],
   "source": [
    "model1.showFokkerPlanckEquation()"
   ]
  },
  {
   "cell_type": "code",
   "execution_count": null,
   "metadata": {},
   "outputs": [],
   "source": [
    "#model1.showNoiseEquations()"
   ]
  },
  {
   "cell_type": "markdown",
   "metadata": {},
   "source": [
    "The Master equation may also be used to display noise around fixed points ..."
   ]
  },
  {
   "cell_type": "code",
   "execution_count": null,
   "metadata": {},
   "outputs": [],
   "source": [
    "#stream2 = model4.stream('A','B', showFixedPoints = True, showNoise = True,\n",
    "#                        initWidgets={'mu':[3, 1, 5, 0.5], 'Delta':[0, 0, 3, 0.1], 'systemSize':[60, 5, 100, 1]})"
   ]
  },
  {
   "cell_type": "markdown",
   "metadata": {},
   "source": [
    "<img src=\"NoiseFPDemoSIAMLS18.png\", title=\"Noise-around-fixedPoints\",width=680, align=\"left\">"
   ]
  },
  {
   "cell_type": "markdown",
   "metadata": {},
   "source": [
    "This new `stream` plot now lets us see how the system's expected state gets 'spread out' around the fixed points. The extent of the spread depends on the number of components in the system.\n",
    "\n",
    "The effects of noise in the `stream` plot above are based on the computational approximations of the Master Equation. MuMoT also gives direct access to a *Stochastic Simulation Algorithm* (SSA) (Gillespie, *J. Comput. Phys.* 22: 403 (1976)) simulator to visualise the behaviour of the system over time.\n",
    "\n",
    "To run the SSA simulations on your model, you can use the command `SSA()`."
   ]
  },
  {
   "cell_type": "code",
   "execution_count": null,
   "metadata": {},
   "outputs": [],
   "source": [
    "ssa1 = model4.SSA(initWidgets={'initialState': {'U': [1,0,1,0.05], 'B': [0,0,1,0.05], 'A': [0,0,1,0.05]},\n",
    "                              'systemSize':[50,5,100,1] })"
   ]
  },
  {
   "cell_type": "markdown",
   "metadata": {},
   "source": [
    "To see how the stochastic simulation compares with the ODE solution we can overlay both ..."
   ]
  },
  {
   "cell_type": "code",
   "execution_count": null,
   "metadata": {},
   "outputs": [],
   "source": [
    "silentIntegrate1 = model4.integrate(silent = True)\n",
    "silentSSA1 = model4.SSA(silent = True)\n",
    "mc1 = mmt.MuMoTmultiController([silentIntegrate1, silentSSA1], shareAxes = True,\n",
    "                                initWidgets={'initialState':{'U': [1,0,1,0.01],'B': [0,0,1,0.01],\n",
    "                                'A': [0,0,1,0.01]}, 'runs':[5,1,20,1], 'aggregateResults':True})"
   ]
  },
  {
   "cell_type": "markdown",
   "metadata": {},
   "source": [
    "## Non-constant system size<a class=\"tocSkip\">\n",
    "\n",
    "A classic model from both ecology and chemistry is the *Lotka-Volterra* model; ecologists often think of this as representing two interacting populations, one of predators, and one of prey. Individuals are born and die in both populations. MuMoT enables this both via the `\\emptyset` notation $\\emptyset$, in which components spontaneously arise from nothing, or are destroyed, and via steady-state reactant populations, denoted with `()`, which do not change over time but simply persist at a constant size.\n",
    "\n",
    "Our Lotka-Volterra example is taken from Murray (*Mathematical Biology* (2002), p124). Individuals are born into the prey population $X$ at a rate that depends on that population size, then predatory interactions decrease the prey population size and increase the predator population size. Finally, predators experience background mortality."
   ]
  },
  {
   "cell_type": "code",
   "execution_count": null,
   "metadata": {},
   "outputs": [],
   "source": [
    "%%model\n",
    "$\n",
    "(A) + X -> X + X : \\alpha\n",
    "X + Y -> Y + Y : \\beta\n",
    "Y -> \\emptyset : \\gamma\n",
    "$"
   ]
  },
  {
   "cell_type": "code",
   "execution_count": null,
   "metadata": {},
   "outputs": [],
   "source": [
    "model5 = mmt.parseModel(In[23])\n",
    "model5.show()"
   ]
  },
  {
   "cell_type": "code",
   "execution_count": null,
   "metadata": {},
   "outputs": [],
   "source": [
    "model5.showODEs()"
   ]
  },
  {
   "cell_type": "markdown",
   "metadata": {},
   "source": [
    "Note that there is no equation for $A$; since it is specified to be at a constant concentration, it does not change over time. This means that when we try and interact with the model, we will need to specify the constant value that $A$ should take.\n",
    "\n",
    "Also, since the system size is now no longer constant, as discussed above, it is useful to be able to change the limits on the plot, to ensure that all the interesting behaviour of the system is visible... the `Plot limits` widget enables this."
   ]
  },
  {
   "cell_type": "code",
   "execution_count": null,
   "metadata": {},
   "outputs": [],
   "source": [
    "stream3 = model5.stream('X','Y', showFixedPoints = False, xlab=\"prey\", ylab=\"predator\")"
   ]
  },
  {
   "cell_type": "markdown",
   "metadata": {},
   "source": [
    "## Viewing the Master and Fokker-Planck equations, and calculating & displaying noise<a class=\"tocSkip\">\n",
    "<a id='masterEqFokkerPlanck'></a>"
   ]
  },
  {
   "cell_type": "markdown",
   "metadata": {},
   "source": [
    "To show this functionality we make use of a model describing the production and decay of protein $P$ and its dimerization into $P_2$ (more conveniently called $X$ and $Y$ below), see Hayot & Jayaprakash, *Physical Biology* 1: 205-210 (2004) for details. This model is defined as:"
   ]
  },
  {
   "cell_type": "code",
   "execution_count": null,
   "metadata": {},
   "outputs": [],
   "source": [
    "%%model\n",
    "$\n",
    "\\emptyset -> X : k_3\n",
    "X -> \\emptyset : k\n",
    "X + X -> Y + \\emptyset : k_1\n",
    "Y + \\emptyset -> X + X : k_2\n",
    "$"
   ]
  },
  {
   "cell_type": "markdown",
   "metadata": {},
   "source": [
    "As you already know it from the examples above, let's parse the model ..."
   ]
  },
  {
   "cell_type": "code",
   "execution_count": null,
   "metadata": {},
   "outputs": [],
   "source": [
    "model6 = mmt.parseModel(In[27])"
   ]
  },
  {
   "cell_type": "markdown",
   "metadata": {},
   "source": [
    "Now that MuMoT knows the model, we can continue deriving the *chemical Master equation*. "
   ]
  },
  {
   "cell_type": "code",
   "execution_count": null,
   "metadata": {},
   "outputs": [],
   "source": [
    "model6.showMasterEquation()"
   ]
  },
  {
   "cell_type": "markdown",
   "metadata": {},
   "source": [
    "Here, $P(X,Y,t)$ describes the probability of observing the systems's composition of reactants $X$ and $Y$ at time $t$. In MuMoT, the system size that, at this point, is not specified and which is used as a formal parameter for the system size expansion described below is denoted $\\overline{V}$. Please pay attention to this notation if defining your model using the letter $V$ (but don't worry, MuMoT will not confuse both variables).\n",
    "\n",
    "Here *step operators* $E_{op}$ are used to express the chemical Master equation in a compact form. MuMoT implements the derivation of the Master equation as shown by van Kampen (*Stochastic Processes in Physics and Chemistry* (2007)).\n",
    "\n",
    "Unfortunately, there is only a limited number of simple cases that allow to solve the Master equation exactly. Hence, analytical approximations may help, such as the *system size expansion* (also called *van Kampen expansion*), which is implemented in MuMoT by `showVanKampenExpansion()`. \n",
    "\n",
    "The idea of this method is to expand the Master equation in powers of a small parameter, which is\n",
    "<br>\n",
    "$$\\sim \\frac{1}{\\sqrt{system\\, size}} \\,.$$\n",
    "<br>\n",
    "\n",
    "Let's do the expansion with MuMoT and display it for the current model ($\\overline{V}$ = system size):"
   ]
  },
  {
   "cell_type": "code",
   "execution_count": null,
   "metadata": {
    "scrolled": false
   },
   "outputs": [],
   "source": [
    "model6.showVanKampenExpansion()"
   ]
  },
  {
   "cell_type": "markdown",
   "metadata": {},
   "source": [
    "This equation describes an expansion in the parameter $\\overline{V}$, which represents the system size. We repeat that at this point this is not specified. However, often $\\overline{V}$ is a volume or the total number of particles in a real system. For more information on the system size expansion refer to van Kampen (*Stochastic Processes in Physics and Chemistry* (2007)).\n",
    "\n",
    "Collecting all terms $\\propto \\sqrt{\\overline{V}}$ gives the ODEs, which can be displayed using:"
   ]
  },
  {
   "cell_type": "code",
   "execution_count": null,
   "metadata": {},
   "outputs": [],
   "source": [
    "model6.showODEs(method='vanKampen')"
   ]
  },
  {
   "cell_type": "markdown",
   "metadata": {},
   "source": [
    "Here, the $\\Phi_{X,Y}$ once more describe the concentrations of $X$ and $Y$ in the mixture (i.e. $\\Phi_{X}=X/\\overline{V}$, for example).\n",
    "\n",
    "Next, if we collect all terms $\\propto \\overline{V}$ we obtain the *Fokker-Planck equation* in the *linear noise approximation*:"
   ]
  },
  {
   "cell_type": "code",
   "execution_count": null,
   "metadata": {},
   "outputs": [],
   "source": [
    "model6.showFokkerPlanckEquation()"
   ]
  },
  {
   "cell_type": "markdown",
   "metadata": {},
   "source": [
    "This equation describes the probability of fluctuations $\\eta_{X,Y}$ at time t. In MuMoT, fluctuations are automatically denoted $\\eta$ with the index denoting the reactant. These quantities describe the fluctuations around the *mean field* value of the concentrations $\\Phi_{X,Y}$. \n",
    "\n",
    "Having this equation allows us derive the equations of motion for the fluctuations. This can be done as follows:"
   ]
  },
  {
   "cell_type": "code",
   "execution_count": null,
   "metadata": {},
   "outputs": [],
   "source": [
    "model6.showNoiseEquations()"
   ]
  },
  {
   "cell_type": "markdown",
   "metadata": {},
   "source": [
    "Here, we have first-order moments, $\\langle \\eta_{X}\\rangle$ and $\\langle \\eta_{Y}\\rangle$, and second-order moments, $\\langle \\eta_{R_1}\\eta_{R_2}\\rangle$, where $R_{1,2}=X,Y$.\n",
    "\n",
    "We can analytically derive the stationary solutions of these equations and display them using:"
   ]
  },
  {
   "cell_type": "code",
   "execution_count": null,
   "metadata": {},
   "outputs": [],
   "source": [
    "model6.showNoiseSolutions()"
   ]
  },
  {
   "cell_type": "markdown",
   "metadata": {},
   "source": [
    "Another possibility to study noise in the system is by calculating the time-dependent noise correlations according to:"
   ]
  },
  {
   "cell_type": "code",
   "execution_count": null,
   "metadata": {},
   "outputs": [],
   "source": [
    "nc1 = model6.noiseCorrelations(initWidgets={'maxTime':[20,5,50,1]})"
   ]
  },
  {
   "cell_type": "markdown",
   "metadata": {},
   "source": [
    "These correlation functions relate to fluctuations around a fixed point. To see the corresponding fixed point we can simply show the logs:"
   ]
  },
  {
   "cell_type": "code",
   "execution_count": null,
   "metadata": {},
   "outputs": [],
   "source": [
    "nc1.showLogs()"
   ]
  },
  {
   "cell_type": "markdown",
   "metadata": {},
   "source": [
    "Please keep this stationary state of the system in mind for a little moment.\n",
    "\n",
    "We can also numerically integrate our dynamical system: "
   ]
  },
  {
   "cell_type": "code",
   "execution_count": null,
   "metadata": {},
   "outputs": [],
   "source": [
    "int2 = model6.integrate(initWidgets={'maxTime':[30,5,50,1]}, legend_loc='center right')"
   ]
  },
  {
   "cell_type": "markdown",
   "metadata": {},
   "source": [
    "Now click on the *Advanced options* tab above the figure and tick the *Plot population proportions* tab. We then display the last point on the curve by showing the logs with the following command:"
   ]
  },
  {
   "cell_type": "code",
   "execution_count": null,
   "metadata": {},
   "outputs": [],
   "source": [
    "int2.showLogs()"
   ]
  },
  {
   "cell_type": "markdown",
   "metadata": {},
   "source": [
    "Here, you can see the last point on the curve before selecting to plot proportions and after choosing this option. Remember, the proportions are calculated by dividing the total numbers by the system size at t=0 (which, if you haven't changed anything, should equal 10 in the plot above -- see the *System size* slider above the figure). \n",
    "\n",
    "Note that the values on the sliders are the same as in the plot of the noise correlations above. If you could memorise the fixed point around which the correlation functions were plotted (if not, it was ($\\Phi_X=1$, $\\Phi_Y=1$)) and compare this with the last point on the curve above (see `int2.showLogs` above), we can safely say that both are in agreement. So, it works! The noise correlations have been plotted around the stationary state of the dynamical system. Using `integrate` we obtained a graphical confirmation of this."
   ]
  },
  {
   "cell_type": "markdown",
   "metadata": {},
   "source": [
    "## Going to a higher dimension<a class=\"tocSkip\">\n",
    "Our model above ended up being 2-dimensional, after we realised that there were a constant number of components in the system. However MuMoT can work with higher-dimensional models (although not all features are supported for them).\n",
    "\n",
    "For example, we can consider the generalisation of `model1` above to 3 or more alternatives, as presented by Reina et al., *Phys. Rev. E* 95, 052411 (2017) ..."
   ]
  },
  {
   "cell_type": "code",
   "execution_count": null,
   "metadata": {},
   "outputs": [],
   "source": [
    "%%model\n",
    "$\n",
    "U -> A : k * v_A\n",
    "U -> B : k * v_B\n",
    "U -> C : k * v_B\n",
    "A -> U : k * (1 / v_A)\n",
    "B -> U : k * (1 / v_B)\n",
    "C -> U : k * (1 / v_C)\n",
    "A + U -> A + A : h * v_A\n",
    "B + U -> B + B : h * v_B\n",
    "C + U -> C + C : h * v_C\n",
    "A + B -> A + U : h * v_A\n",
    "A + B -> B + U : h * v_B\n",
    "A + C -> A + U : h * v_A\n",
    "A + C -> C + U : h * v_C\n",
    "B + C -> B + U : h * v_B\n",
    "B + C -> C + U : h * v_C\n",
    "$"
   ]
  },
  {
   "cell_type": "code",
   "execution_count": null,
   "metadata": {
    "scrolled": false
   },
   "outputs": [],
   "source": [
    "model7 = mmt.parseModel(In[39]).substitute('U = N - A - B - C')\n",
    "vector2 = model7.vector('A', 'B', 'C')"
   ]
  },
  {
   "cell_type": "markdown",
   "metadata": {},
   "source": [
    "## References<a class=\"tocSkip\">\n",
    "<a id='references'></a>\n",
    "* Gillespie, D. T. (1976). A general method for numerically simulating the stochastic time evolution of coupled chemical reactions. *Journal of Computational Physics* **22** (4): 403–434\n",
    "* Hayot, F. & C. Jayaprakash (2004) \n",
    "[The linear noise approximation for molecular fluctuations within cells](http://iopscience.iop.org/article/10.1088/1478-3967/1/4/002/pdf). *Physical Biology* **1**, 205-210\n",
    "* Murray, J. D. (2002) *Mathematical Biology I. An Introduction (Second Edition)*. Springer\n",
    "* Pais, D., Hogan, P.M., Schlegel, T., Franks, N.R., Leonard, N.E. & Marshall, J.A.R. (2013) [A mechanism for value-sensitive decision-making](http://journals.plos.org/plosone/article?id=10.1371/journal.pone.0073216).  *PLoS one* **8**(9), e73216\n",
    "* Reina A., Valentini G., Fernández-Oto A., Dorigo M. & Trianni V. (2015) [A design pattern for decentralised decision making](http://journals.plos.org/plosone/article?id=10.1371/journal.pone.0140950).  *PLoS one* **10**(10), e0140950\n",
    "* Reina A., Marshall J.A.R., Trianni V., Bose T. (2017) [Model of the best-of-N nest-site selection process in honeybees](https://journals.aps.org/pre/abstract/10.1103/PhysRevE.95.052411) *Physical Review E* **95**: 052411\n",
    "* Seeley, T.D, Visscher, P.K. Schlegel, T., Hogan, P.M., Franks, N.R. & Marshall, J.A.R. (2012) [Stop signals provide cross inhibition in collective decision-making by honeybee swarms](http://www.sciencemag.org/content/335/6064/108.full.pdf). *Science* **335**, 108-111\n",
    "* van Kampen, N. (2007) *Stochastic Processes in Physics and Chemistry (Third Edition)*. North-Holland"
   ]
  }
 ],
 "metadata": {
  "kernelspec": {
   "display_name": "Python 3",
   "language": "python",
   "name": "python3"
  },
  "language_info": {
   "codemirror_mode": {
    "name": "ipython",
    "version": 3
   },
   "file_extension": ".py",
   "mimetype": "text/x-python",
   "name": "python",
   "nbconvert_exporter": "python",
   "pygments_lexer": "ipython3",
   "version": "3.6.8"
  },
  "toc": {
   "base_numbering": "1",
   "nav_menu": {},
   "number_sections": true,
   "sideBar": true,
   "skip_h1_title": true,
   "title_cell": "Table of Contents",
   "title_sidebar": "Contents",
   "toc_cell": false,
   "toc_position": {
    "height": "calc(100% - 180px)",
    "left": "10px",
    "top": "150px",
    "width": "288px"
   },
   "toc_section_display": true,
   "toc_window_display": false
  },
  "widgets": {
   "state": {
    "0f1da6289ccc47ec96c8c8b477f3e37e": {
     "views": [
      {
       "cell_index": 60
      }
     ]
    },
    "12dff49951bf4f4aa6afd2437d2733ea": {
     "views": [
      {
       "cell_index": 38
      }
     ]
    },
    "143c3aa5b3a94602abcb99f5d3682b42": {
     "views": [
      {
       "cell_index": 23
      }
     ]
    },
    "15f8da4f248e41fdbb86e469bbf0a423": {
     "views": [
      {
       "cell_index": 51
      }
     ]
    },
    "22efce659af24047800463f2c6d460ee": {
     "views": [
      {
       "cell_index": 23
      }
     ]
    },
    "2305e4265a234613af7ec1488c3a84a0": {
     "views": [
      {
       "cell_index": 51
      }
     ]
    },
    "25eaa6a79b394d96bf6b016a8f5789a0": {
     "views": [
      {
       "cell_index": 33
      }
     ]
    },
    "25f7cb6ad4594dbb9c3dfaeeeebd2baa": {
     "views": [
      {
       "cell_index": 33
      }
     ]
    },
    "2a889abb13a441a6b0b1bb07b06aae14": {
     "views": [
      {
       "cell_index": 60
      }
     ]
    },
    "2db99fe905e1430a9e0fc3f80e61824d": {
     "views": [
      {
       "cell_index": 33
      }
     ]
    },
    "31ffe852616040109a3b4f88a6815b8a": {
     "views": [
      {
       "cell_index": 36
      }
     ]
    },
    "3e3b2977642f48e99ceeef154551af71": {
     "views": [
      {
       "cell_index": 60
      }
     ]
    },
    "4ba771e07fdb44c49a07b94aafee0c1d": {
     "views": [
      {
       "cell_index": 38
      }
     ]
    },
    "4d722defa6f54a03956ef26e5bb24d75": {
     "views": [
      {
       "cell_index": 38
      }
     ]
    },
    "4e4fb5a6665b4e89acf172973b5f9b27": {
     "views": [
      {
       "cell_index": 23
      }
     ]
    },
    "50ab0a9b7d4d47d2bef8033efa6b6661": {
     "views": [
      {
       "cell_index": 38
      }
     ]
    },
    "53a25e884ed74eaab9813cb4e3413c2f": {
     "views": [
      {
       "cell_index": 38
      }
     ]
    },
    "56f18bd9baa1474fac1d692af347424f": {
     "views": [
      {
       "cell_index": 51
      }
     ]
    },
    "5f4fd39c4f5047db8441d0b30df86a38": {
     "views": [
      {
       "cell_index": 38
      }
     ]
    },
    "68117c20182148de957ae1a311729bc2": {
     "views": [
      {
       "cell_index": 23
      }
     ]
    },
    "6b9e63ee22924ae3b6731d530ba6b549": {
     "views": [
      {
       "cell_index": 36
      }
     ]
    },
    "7050fe3f432e4180b329a3c92ed09551": {
     "views": [
      {
       "cell_index": 51
      }
     ]
    },
    "7713dfc8cf164108b44b49d477f3e154": {
     "views": [
      {
       "cell_index": 51
      }
     ]
    },
    "79f7fdc5299e4b1bb75d32bb0e87d7a3": {
     "views": [
      {
       "cell_index": 23
      }
     ]
    },
    "7b957930c9924cb3b1cca132418e2f00": {
     "views": [
      {
       "cell_index": 51
      }
     ]
    },
    "8b82dea0b0744375b10edd290ea509d3": {
     "views": [
      {
       "cell_index": 36
      }
     ]
    },
    "8d07f6b41a444b49b12d7f8e5918ca6a": {
     "views": [
      {
       "cell_index": 23
      }
     ]
    },
    "8ef0ad62478b43129d8cd652add052c7": {
     "views": [
      {
       "cell_index": 23
      }
     ]
    },
    "9560997a50274839a7117e95b073afba": {
     "views": [
      {
       "cell_index": 36
      }
     ]
    },
    "96b329f0ab1d47338ac6d63da570c275": {
     "views": [
      {
       "cell_index": 36
      }
     ]
    },
    "9adb34f1a17041719156750646d42cfb": {
     "views": [
      {
       "cell_index": 51
      }
     ]
    },
    "9e7afa9d8d1b478a83a0955428961503": {
     "views": [
      {
       "cell_index": 23
      }
     ]
    },
    "a408184986ae423dbde56361209f036a": {
     "views": [
      {
       "cell_index": 33
      }
     ]
    },
    "a7ca5685289644b8aa449ce9377e6a5c": {
     "views": [
      {
       "cell_index": 23
      }
     ]
    },
    "a7dbac4a99a04c4e931b4cc6c9beda28": {
     "views": [
      {
       "cell_index": 51
      }
     ]
    },
    "a874f3c5de9548deab1f15d01e0a35aa": {
     "views": [
      {
       "cell_index": 60
      }
     ]
    },
    "ab5a6f55976e4b99847157fde376160d": {
     "views": [
      {
       "cell_index": 38
      }
     ]
    },
    "ad3aa76f7e874016acdd53204362e367": {
     "views": [
      {
       "cell_index": 51
      }
     ]
    },
    "b64577ba4bc14887b39249c7599693e2": {
     "views": [
      {
       "cell_index": 33
      }
     ]
    },
    "b6818d31691542d2b4fc017e2aad1400": {
     "views": [
      {
       "cell_index": 23
      }
     ]
    },
    "c6e9aa6f9e6b4bbf9e994e85216e6cbf": {
     "views": [
      {
       "cell_index": 33
      }
     ]
    },
    "caac276fb0844d3b939ae00b7ae0ab95": {
     "views": [
      {
       "cell_index": 23
      }
     ]
    },
    "d8aaa2637f8b4586b243e7d1e265614a": {
     "views": [
      {
       "cell_index": 51
      }
     ]
    },
    "e77472d2a0524ea0b75dcee2471685e4": {
     "views": [
      {
       "cell_index": 60
      }
     ]
    },
    "f2876ad0e37e4b748ff80f9cc3791542": {
     "views": [
      {
       "cell_index": 23
      }
     ]
    },
    "f73cd695eb284175a7c65821b942925c": {
     "views": [
      {
       "cell_index": 23
      }
     ]
    },
    "f8319629082441e98a925c1d162f75c5": {
     "views": [
      {
       "cell_index": 60
      }
     ]
    },
    "f8f9d7c2ae4d4262b564c5f434f7f2d0": {
     "views": [
      {
       "cell_index": 33
      }
     ]
    },
    "fd6fcf6218cc4d3bb180fbb1264c115d": {
     "views": [
      {
       "cell_index": 36
      }
     ]
    }
   },
   "version": "1.2.0"
  }
 },
 "nbformat": 4,
 "nbformat_minor": 2
}
